{
 "cells": [
  {
   "cell_type": "code",
   "execution_count": 81,
   "metadata": {},
   "outputs": [],
   "source": [
    "import numpy as np\n",
    "import sklearn.cluster\n",
    "import sklearn.mixture\n",
    "import matplotlib.pyplot as plt\n",
    "import skimage.feature\n",
    "import tensorflow.keras as keras\n",
    "import tensorflow as tf\n",
    "\n",
    "from sklearn.svm import SVC\n",
    "from sklearn import cluster\n",
    "from sklearn.decomposition import PCA\n",
    "from sklearn.discriminant_analysis import LinearDiscriminantAnalysis\n",
    "from sklearn.cluster import KMeans\n",
    "from sklearn import mixture\n",
    "from sklearn.preprocessing import StandardScaler \n",
    "from sklearn.linear_model import LogisticRegression\n",
    "from sklearn.metrics import classification_report\n",
    "from sklearn.metrics import confusion_matrix\n"
   ]
  },
  {
   "cell_type": "code",
   "execution_count": 2,
   "metadata": {},
   "outputs": [],
   "source": [
    "train_data = np.load('trnImage.npy')\n",
    "test_data = np.load('tstImage.npy')\n",
    "train_labels = np.load('trnLabel.npy')\n",
    "test_labels = np.load('tstLabel.npy')"
   ]
  },
  {
   "cell_type": "code",
   "execution_count": 3,
   "metadata": {},
   "outputs": [],
   "source": [
    "# Setting feature arrays to zero for train and test respective\n",
    "train_features = np.zeros((10000,324),dtype = np.float64)\n",
    "test_features = np.zeros((10000,324),dtype = np.float64)"
   ]
  },
  {
   "cell_type": "code",
   "execution_count": 4,
   "metadata": {},
   "outputs": [],
   "source": [
    "# Function was taken by the file Runme.ipynb\n",
    "def computeFeatures(image):\n",
    "    # This function computes the HOG features with the parsed hyperparameters and returns the features as hog_feature. \n",
    "    # By setting visualize=True we obtain an image, hog_as_image, which can be plotted for insight into extracted HOG features.\n",
    "    hog_feature, hog_as_image = skimage.feature.hog(image, visualize=True, block_norm='L2-Hys')\n",
    "    return hog_feature, hog_as_image"
   ]
  },
  {
   "cell_type": "code",
   "execution_count": 5,
   "metadata": {},
   "outputs": [],
   "source": [
    "# Taking the first feature for train and test set\n",
    "train_features,hog_image =  computeFeatures(train_data[:,:,:,0])\n",
    "test_features,hog_image = computeFeatures(test_data[:,:,:,0])"
   ]
  },
  {
   "cell_type": "code",
   "execution_count": 6,
   "metadata": {},
   "outputs": [],
   "source": [
    "for i in range(1,10000):\n",
    "    feature_i,hog_image_i = computeFeatures(train_data[:,:,:,i])\n",
    "    train_features = np.vstack((train_features,feature_i))\n",
    "for i in range(1,1000):\n",
    "    feature_i_test, hog_image_i = computeFeatures(test_data[:,:,:,i])\n",
    "    test_features = np.vstack((test_features,feature_i_test))\n",
    "\n",
    "# Modifing the labels to be 0-9 instead of 1-10\n",
    "test_labels = test_labels-1\n",
    "train_labels= train_labels-1"
   ]
  },
  {
   "cell_type": "markdown",
   "metadata": {},
   "source": [
    "### Unsupervised learning k-means and GMM"
   ]
  },
  {
   "cell_type": "code",
   "execution_count": 7,
   "metadata": {},
   "outputs": [
    {
     "name": "stdout",
     "output_type": "stream",
     "text": [
      "Percentage accuracy on testing set is: 12.40%\n"
     ]
    }
   ],
   "source": [
    "# Initializing k-means with 10 clusters as 10 is the number of classes\n",
    "kmeans = cluster.KMeans(n_clusters=10)\n",
    "# Fit the model to the data\n",
    "kmeans.fit(test_features)\n",
    "# Predict the labels for the train\n",
    "predictions = kmeans.predict(test_features)\n",
    "accuracy = np.sum(np.equal(test_labels,predictions.reshape(-1,1)))/test_labels.shape[0]*100\n",
    "print('Percentage accuracy on testing set is: {0:.2f}%'.format(accuracy))"
   ]
  },
  {
   "cell_type": "code",
   "execution_count": 8,
   "metadata": {},
   "outputs": [
    {
     "name": "stdout",
     "output_type": "stream",
     "text": [
      "Percentage accuracy on testing using gmm set is: 10.90%\n"
     ]
    }
   ],
   "source": [
    "# Because k-means' results were not so good I have chosen random initialize for the centers \n",
    "# and increased the iterations of model to 500\n",
    "gmm = mixture.GaussianMixture(n_components = 10, max_iter=500, init_params=\"random\")\n",
    "# Using the train set to train our data and trying to predict the test data\n",
    "gmm.fit(train_features)\n",
    "gmm_labels = gmm.predict(test_features)\n",
    "accuracy = np.sum(np.equal(test_labels,gmm_labels.reshape(-1,1)))/test_labels.shape[0]*100\n",
    "print('Percentage accuracy on testing using gmm set is: {0:.2f}%'.format(accuracy))\n"
   ]
  },
  {
   "cell_type": "markdown",
   "metadata": {},
   "source": [
    "### Supervised Learning"
   ]
  },
  {
   "cell_type": "markdown",
   "metadata": {},
   "source": [
    "Normalize the data so high flactuations will not affect the model significantly"
   ]
  },
  {
   "cell_type": "code",
   "execution_count": 9,
   "metadata": {},
   "outputs": [],
   "source": [
    "normaliser = StandardScaler().fit(train_features)\n",
    "train_features = normaliser.transform(train_features)\n",
    "normaliser = StandardScaler().fit(test_features)\n",
    "test_features = normaliser.transform(test_features)"
   ]
  },
  {
   "cell_type": "markdown",
   "metadata": {},
   "source": [
    "Logistic Regression"
   ]
  },
  {
   "cell_type": "code",
   "execution_count": 10,
   "metadata": {},
   "outputs": [
    {
     "name": "stdout",
     "output_type": "stream",
     "text": [
      "Percentage accuracy on testing set using logistic regression is: 49.30%\n",
      "Explicit Matrix of Predictions\n"
     ]
    }
   ],
   "source": [
    "lgr = LogisticRegression(solver=\"lbfgs\", multi_class=\"ovr\", \n",
    "                         max_iter=1000, warm_start = False, C=1) \n",
    "# \"ovr\" also known as One versus Rest will be used in the logistic Regression technique\n",
    "lgr.fit(train_features,train_labels.ravel())\n",
    "lgr_predicts = lgr.predict(test_features)\n",
    "accuracy = np.sum(np.equal(test_labels, lgr_predicts.reshape(-1,1)))/test_labels.shape[0]*100\n",
    "print('Percentage accuracy on testing set using logistic regression is: {0:.2f}%'.format(accuracy))\n",
    "print('Explicit Matrix of Predictions')"
   ]
  },
  {
   "cell_type": "markdown",
   "metadata": {},
   "source": [
    "Support Vector Machine"
   ]
  },
  {
   "cell_type": "code",
   "execution_count": 11,
   "metadata": {},
   "outputs": [
    {
     "name": "stdout",
     "output_type": "stream",
     "text": [
      "Percentage accuracy on testing set using SVM - polynomial kernel is: 55.80%\n"
     ]
    }
   ],
   "source": [
    "svm = SVC(kernel = \"poly\",C=1) # Polynomial\n",
    "svm.fit(train_features, train_labels.ravel())\n",
    "predictions = svm.predict(test_features)\n",
    "accuracy = np.sum(np.equal(test_labels, predictions.reshape(-1,1)))/test_labels.shape[0]*100\n",
    "print('Percentage accuracy on testing set using SVM - polynomial kernel is: {0:.2f}%'.format(accuracy))"
   ]
  },
  {
   "cell_type": "code",
   "execution_count": 12,
   "metadata": {},
   "outputs": [
    {
     "name": "stdout",
     "output_type": "stream",
     "text": [
      "Percentage accuracy on testing set using SVM - linear kernel is: 48.60%\n"
     ]
    }
   ],
   "source": [
    "svm = SVC(kernel = \"linear\",C=1) # linear\n",
    "svm.fit(train_features, train_labels.ravel())\n",
    "predictions = svm.predict(test_features)\n",
    "accuracy = np.sum(np.equal(test_labels, predictions.reshape(-1,1)))/test_labels.shape[0]*100\n",
    "print('Percentage accuracy on testing set using SVM - linear kernel is: {0:.2f}%'.format(accuracy))"
   ]
  },
  {
   "cell_type": "code",
   "execution_count": 13,
   "metadata": {},
   "outputs": [
    {
     "name": "stdout",
     "output_type": "stream",
     "text": [
      "Percentage accuracy on testing set using SVM - sigmoid kernel is: 48.40%\n"
     ]
    }
   ],
   "source": [
    "svm = SVC(kernel = \"sigmoid\",C=1) # sigmoid\n",
    "svm.fit(train_features, train_labels.ravel())\n",
    "predictions = svm.predict(test_features)\n",
    "accuracy = np.sum(np.equal(test_labels, predictions.reshape(-1,1)))/test_labels.shape[0]*100\n",
    "print('Percentage accuracy on testing set using SVM - sigmoid kernel is: {0:.2f}%'.format(accuracy))"
   ]
  },
  {
   "cell_type": "markdown",
   "metadata": {},
   "source": [
    "Artificial Neural Network"
   ]
  },
  {
   "cell_type": "markdown",
   "metadata": {},
   "source": [
    "Neural Network with 1,2 and 3 layers consisted of 10 nodes"
   ]
  },
  {
   "cell_type": "code",
   "execution_count": 14,
   "metadata": {},
   "outputs": [
    {
     "name": "stdout",
     "output_type": "stream",
     "text": [
      "Percentage accuracy on testing set using ANN 1-layer is: 49.90%\n"
     ]
    }
   ],
   "source": [
    "model_1 = keras.Sequential()\n",
    "model_1.add(keras.layers.InputLayer(input_shape=(train_features.shape[1],)))\n",
    "model_1.add(keras.layers.Dense(10, activation='sigmoid')) # first layer\n",
    "\n",
    "model_1.compile(optimizer='adam', loss='sparse_categorical_crossentropy', metrics=['acc'])\n",
    "history = model_1.fit(train_features, train_labels, \n",
    "                    validation_data=(test_features, test_labels), epochs=600, verbose=0)\n",
    "predicted_probabilities = model_1.predict(test_features)\n",
    "predictions = np.argmax(predicted_probabilities, axis=1)\n",
    "\n",
    "# Calculate the percentage accuracy rate on test set\n",
    "accuracy = np.sum(np.equal(test_labels, predictions.reshape(-1,1))) / test_labels.shape[0] * 100\n",
    "print('Percentage accuracy on testing set using ANN 1-layer is: {0:.2f}%'.format(accuracy))"
   ]
  },
  {
   "cell_type": "code",
   "execution_count": 15,
   "metadata": {},
   "outputs": [
    {
     "name": "stdout",
     "output_type": "stream",
     "text": [
      "Percentage accuracy on testing set using ANN - 2 layer is: 45.00%\n"
     ]
    }
   ],
   "source": [
    "model_2 = keras.Sequential()\n",
    "model_2.add(keras.layers.InputLayer(input_shape=(train_features.shape[1],)))\n",
    "model_2.add(keras.layers.Dense(10, activation='sigmoid')) # first layer\n",
    "model_2.add(keras.layers.Dense(10, activation='sigmoid')) # Second layer\n",
    "model_2.compile(optimizer='adam', loss='sparse_categorical_crossentropy', metrics=['acc'])\n",
    "history = model_2.fit(train_features, train_labels, \n",
    "                    validation_data=(test_features, test_labels), epochs=600, verbose=0)\n",
    "predicted_probabilities = model_2.predict(test_features)\n",
    "predictions = np.argmax(predicted_probabilities, axis=1)\n",
    "\n",
    "# Calculate the percentage accuracy rate on test set\n",
    "accuracy = np.sum(np.equal(test_labels, predictions.reshape(-1,1))) / test_labels.shape[0] * 100\n",
    "print('Percentage accuracy on testing set using ANN - 2 layer is: {0:.2f}%'.format(accuracy))"
   ]
  },
  {
   "cell_type": "code",
   "execution_count": 16,
   "metadata": {},
   "outputs": [
    {
     "name": "stdout",
     "output_type": "stream",
     "text": [
      "Percentage accuracy on testing set using ANN - 3 layer is: 42.20%\n"
     ]
    }
   ],
   "source": [
    "model_3 = keras.Sequential()\n",
    "model_3.add(keras.layers.InputLayer(input_shape=(train_features.shape[1],)))\n",
    "model_3.add(keras.layers.Dense(10, activation='sigmoid')) # first layer\n",
    "model_3.add(keras.layers.Dense(10, activation='sigmoid')) # Second layer\n",
    "model_3.add(keras.layers.Dense(10, activation='hard_sigmoid')) # third layer\n",
    "model_3.compile(optimizer='adam', loss='sparse_categorical_crossentropy', metrics=['acc'])\n",
    "history = model_3.fit(train_features, train_labels, \n",
    "                    validation_data=(test_features, test_labels), epochs=600, verbose=0)\n",
    "predicted_probabilities = model_3.predict(test_features)\n",
    "predictions = np.argmax(predicted_probabilities, axis=1)\n",
    "\n",
    "# Calculate the percentage accuracy rate on test set\n",
    "accuracy = np.sum(np.equal(test_labels, predictions.reshape(-1,1))) / test_labels.shape[0] * 100\n",
    "print('Percentage accuracy on testing set using ANN - 3 layer is: {0:.2f}%'.format(accuracy))"
   ]
  },
  {
   "cell_type": "markdown",
   "metadata": {},
   "source": [
    "SGD optimizer for the model with 1 layer 10 nodes"
   ]
  },
  {
   "cell_type": "code",
   "execution_count": 17,
   "metadata": {
    "scrolled": true
   },
   "outputs": [
    {
     "name": "stdout",
     "output_type": "stream",
     "text": [
      "Percentage accuracy on testing set using ANN is: 50.60%\n"
     ]
    }
   ],
   "source": [
    "model_ann = keras.Sequential()\n",
    "model_ann.add(keras.layers.InputLayer(input_shape=(train_features.shape[1],)))\n",
    "model_ann.add(keras.layers.Dense(10, activation='sigmoid')) # first layer\n",
    "model_ann.compile(optimizer='sgd', loss='sparse_categorical_crossentropy', metrics=['acc'])\n",
    "history = model_ann.fit(train_features, train_labels, \n",
    "                    validation_data=(test_features, test_labels), epochs=600, verbose=0)\n",
    "predicted_probabilities = model_ann.predict(test_features)\n",
    "predictions = np.argmax(predicted_probabilities, axis=1)\n",
    "\n",
    "# Calculate the percentage accuracy rate on test set\n",
    "accuracy = np.sum(np.equal(test_labels, predictions.reshape(-1,1))) / test_labels.shape[0] * 100\n",
    "print('Percentage accuracy on testing set using ANN is: {0:.2f}%'.format(accuracy))"
   ]
  },
  {
   "cell_type": "markdown",
   "metadata": {},
   "source": [
    "RMSprop optimizer for the same model"
   ]
  },
  {
   "cell_type": "code",
   "execution_count": 18,
   "metadata": {},
   "outputs": [
    {
     "name": "stdout",
     "output_type": "stream",
     "text": [
      "Percentage accuracy on testing set using ANN is: 43.80%\n"
     ]
    }
   ],
   "source": [
    "model_rms = keras.Sequential()\n",
    "model_rms.add(keras.layers.InputLayer(input_shape=(train_features.shape[1],)))\n",
    "model_rms.add(keras.layers.Dense(10, activation='sigmoid')) # first layer\n",
    "model_rms.compile(optimizer='RMSprop', loss='sparse_categorical_crossentropy', metrics=['acc'])\n",
    "history = model_rms.fit(train_features, train_labels, \n",
    "                    validation_data=(test_features, test_labels), epochs=600, verbose=0)\n",
    "predicted_probabilities = model_rms.predict(test_features)\n",
    "predictions = np.argmax(predicted_probabilities, axis=1)\n",
    "\n",
    "# Calculate the percentage accuracy rate on test set\n",
    "accuracy = np.sum(np.equal(test_labels, predictions.reshape(-1,1))) / test_labels.shape[0] * 100\n",
    "print('Percentage accuracy on testing set using ANN is: {0:.2f}%'.format(accuracy))"
   ]
  },
  {
   "cell_type": "markdown",
   "metadata": {},
   "source": [
    "### Applying dimensionality reduction (PCA and LDA) and then retrain the models"
   ]
  },
  {
   "cell_type": "markdown",
   "metadata": {},
   "source": [
    "#### PCA"
   ]
  },
  {
   "cell_type": "code",
   "execution_count": 19,
   "metadata": {},
   "outputs": [],
   "source": [
    "pca = PCA()\n",
    "pca.fit(train_features)\n",
    "pca_train_features = pca.transform(train_features)\n",
    "pca_test_features = pca.transform(test_features)"
   ]
  },
  {
   "cell_type": "code",
   "execution_count": 20,
   "metadata": {},
   "outputs": [
    {
     "data": {
      "image/png": "[encoded data removed]",
      "text/plain": [
       "<Figure size 432x288 with 1 Axes>"
      ]
     },
     "metadata": {
      "needs_background": "light"
     },
     "output_type": "display_data"
    }
   ],
   "source": [
    "plt.figure()\n",
    "plt.plot(pca.explained_variance_)\n",
    "plt.xlabel('Principal Components')\n",
    "plt.ylabel('Variance Explained')\n",
    "plt.title('Princial Components vs Variance Explained for Train - Test set')\n",
    "plt.show()"
   ]
  },
  {
   "cell_type": "markdown",
   "metadata": {},
   "source": [
    "It is observed that over 140 principal components there is no significant variance that can be explained\n",
    "Thus, we are going to reapply pca with 140 components "
   ]
  },
  {
   "cell_type": "code",
   "execution_count": 21,
   "metadata": {},
   "outputs": [],
   "source": [
    "pca = PCA(n_components=140)\n",
    "pca.fit(train_features)\n",
    "pca_train_features = pca.transform(train_features)\n",
    "pca_test_features = pca.transform(test_features)"
   ]
  },
  {
   "cell_type": "markdown",
   "metadata": {},
   "source": [
    "### Re-train our models such as Logistic Regression, SVM, and ANN"
   ]
  },
  {
   "cell_type": "markdown",
   "metadata": {},
   "source": [
    " Taking the new data set as:\n",
    "     train = pca_train_features\n",
    "     test = pca_test_features"
   ]
  },
  {
   "cell_type": "markdown",
   "metadata": {},
   "source": [
    "Logistic Regression"
   ]
  },
  {
   "cell_type": "code",
   "execution_count": 22,
   "metadata": {
    "scrolled": true
   },
   "outputs": [
    {
     "name": "stdout",
     "output_type": "stream",
     "text": [
      "Percentage accuracy on testing set using logistic regression is: 50.20%\n",
      "Explicit Matrix of Predictions\n"
     ]
    }
   ],
   "source": [
    "lgr = LogisticRegression(solver=\"lbfgs\", multi_class=\"ovr\", \n",
    "                         max_iter=500, warm_start = False, C=1) \n",
    "# \"ovr\" also known as One versus Rest will be used in the logistic Regression technique\n",
    "lgr.fit(pca_train_features,train_labels.ravel())\n",
    "predictions = lgr.predict(pca_test_features)\n",
    "accuracy = np.sum(np.equal(test_labels, predictions.reshape(-1,1)))/test_labels.shape[0]*100\n",
    "print('Percentage accuracy on testing set using logistic regression is: {0:.2f}%'.format(accuracy))\n",
    "print('Explicit Matrix of Predictions')"
   ]
  },
  {
   "cell_type": "markdown",
   "metadata": {},
   "source": [
    "Support Vector Machine"
   ]
  },
  {
   "cell_type": "code",
   "execution_count": 23,
   "metadata": {
    "scrolled": true
   },
   "outputs": [
    {
     "name": "stdout",
     "output_type": "stream",
     "text": [
      "Percentage accuracy on testing set using SVM - polynomial kernel is: 59.30%\n"
     ]
    }
   ],
   "source": [
    "# Polynomial kernel had the best performance by now\n",
    "# Thus we are going to test only on polynomial kernel\n",
    "clf = SVC(kernel = \"poly\",C=1, gamma=\"auto\")# Polynomial\n",
    "clf.fit(pca_train_features, train_labels.ravel())\n",
    "predictions = clf.predict(pca_test_features)\n",
    "accuracy = np.sum(np.equal(test_labels, predictions.reshape(-1,1)))/test_labels.shape[0]*100\n",
    "print('Percentage accuracy on testing set using SVM - polynomial kernel is: {0:.2f}%'.format(accuracy))"
   ]
  },
  {
   "cell_type": "markdown",
   "metadata": {},
   "source": [
    "Artificial Neural Network with Sgd solver 1 layer with 10 nodes and Sigmoid as activation function"
   ]
  },
  {
   "cell_type": "code",
   "execution_count": 24,
   "metadata": {},
   "outputs": [
    {
     "name": "stdout",
     "output_type": "stream",
     "text": [
      "Percentage accuracy on testing set using ANN is: 50.00%\n"
     ]
    }
   ],
   "source": [
    "model = keras.Sequential()\n",
    "model.add(keras.layers.InputLayer(input_shape=(pca_train_features.shape[1],)))\n",
    "model.add(keras.layers.Dense(10, activation='sigmoid')) # first layer\n",
    "model.compile(optimizer='sgd', loss='sparse_categorical_crossentropy', metrics=['acc'])\n",
    "history = model.fit(pca_train_features, train_labels, \n",
    "                    validation_data=(pca_test_features, test_labels), epochs=600, verbose=0)\n",
    "predicted_probabilities = model.predict(pca_test_features)\n",
    "predictions = np.argmax(predicted_probabilities, axis=1)\n",
    "\n",
    "# Calculate the percentage accuracy rate on test set\n",
    "accuracy = np.sum(np.equal(test_labels, predictions.reshape(-1,1))) / test_labels.shape[0] * 100\n",
    "print('Percentage accuracy on testing set using ANN is: {0:.2f}%'.format(accuracy))"
   ]
  },
  {
   "cell_type": "markdown",
   "metadata": {},
   "source": [
    "#### Perfoming LDA to the dataset"
   ]
  },
  {
   "cell_type": "code",
   "execution_count": 25,
   "metadata": {},
   "outputs": [
    {
     "data": {
      "text/plain": [
       "Text(0.5, 1.0, 'Principal Components vs Variance Explained using LDA')"
      ]
     },
     "execution_count": 25,
     "metadata": {},
     "output_type": "execute_result"
    },
    {
     "data": {
      "image/png": "[encoded data removed]",
      "text/plain": [
       "<Figure size 432x288 with 1 Axes>"
      ]
     },
     "metadata": {
      "needs_background": "light"
     },
     "output_type": "display_data"
    }
   ],
   "source": [
    "lda = LinearDiscriminantAnalysis()\n",
    "lda.fit(train_features, train_labels.ravel())\n",
    "\n",
    "plt.plot(lda.explained_variance_ratio_)\n",
    "plt.xlabel('Principal Components')\n",
    "plt.ylabel('Variance Explained')\n",
    "plt.title('Principal Components vs Variance Explained using LDA')"
   ]
  },
  {
   "cell_type": "markdown",
   "metadata": {},
   "source": [
    "We dont need to do a trade-off between complexity and accuracy as there are only 9 principal components"
   ]
  },
  {
   "cell_type": "code",
   "execution_count": 26,
   "metadata": {},
   "outputs": [],
   "source": [
    "# We are going to use all the components as the complexity is not high enough\n",
    "lda = LinearDiscriminantAnalysis(n_components=9)\n",
    "lda.fit(train_features, train_labels.ravel())\n",
    "lda_train_features = lda.transform(train_features)\n",
    "lda_test_features = lda.transform(test_features)"
   ]
  },
  {
   "cell_type": "markdown",
   "metadata": {},
   "source": [
    "#### Re-applying everything on LDA set"
   ]
  },
  {
   "cell_type": "code",
   "execution_count": 27,
   "metadata": {},
   "outputs": [
    {
     "name": "stdout",
     "output_type": "stream",
     "text": [
      "Percentage accuracy on testing set using logistic regression on LDA set is: 49.10%\n"
     ]
    }
   ],
   "source": [
    "# Logistic Regression\n",
    "lgr = LogisticRegression(solver=\"lbfgs\", multi_class=\"ovr\", \n",
    "                         max_iter=500, warm_start = False, C=1) \n",
    "# \"ovr\" also known as One versus Rest will be used in the logistic Regression technique\n",
    "lgr.fit(lda_train_features,train_labels.ravel())\n",
    "predictions = lgr.predict(lda_test_features)\n",
    "accuracy = np.sum(np.equal(test_labels, predictions.reshape(-1,1)))/test_labels.shape[0]*100\n",
    "print('Percentage accuracy on testing set using logistic regression on LDA set is: {0:.2f}%'.format(accuracy))"
   ]
  },
  {
   "cell_type": "code",
   "execution_count": 28,
   "metadata": {},
   "outputs": [
    {
     "name": "stdout",
     "output_type": "stream",
     "text": [
      "Percentage accuracy on testing set using SVM on LDA set is: 49.10%\n"
     ]
    }
   ],
   "source": [
    "# SVM\n",
    "# Polynomial kernel had the best performance by now\n",
    "# Thus we are going to test only on polynomial kernel\n",
    "svm = SVC(kernel = \"poly\",C=1, gamma=\"auto\")# Polynomial\n",
    "svm.fit(lda_train_features, train_labels.ravel())\n",
    "predictions = svm.predict(lda_test_features)\n",
    "accuracy = np.sum(np.equal(test_labels, predictions.reshape(-1,1)))/test_labels.shape[0]*100\n",
    "print('Percentage accuracy on testing set using SVM on LDA set is: {0:.2f}%'.format(accuracy))"
   ]
  },
  {
   "cell_type": "code",
   "execution_count": 29,
   "metadata": {},
   "outputs": [
    {
     "name": "stdout",
     "output_type": "stream",
     "text": [
      "Percentage accuracy on testing set using ANN on LDA set is: 49.80%\n"
     ]
    }
   ],
   "source": [
    "model = keras.Sequential()\n",
    "model.add(keras.layers.InputLayer(input_shape=(lda_train_features.shape[1],)))\n",
    "model.add(keras.layers.Dense(10, activation='sigmoid')) # first layer\n",
    "model.compile(optimizer='sgd', loss='sparse_categorical_crossentropy', metrics=['acc'])\n",
    "history = model.fit(lda_train_features, train_labels, \n",
    "                    validation_data=(lda_test_features, test_labels), epochs=600, verbose=0)\n",
    "predicted_probabilities = model.predict(lda_test_features)\n",
    "predictions = np.argmax(predicted_probabilities, axis=1)\n",
    "\n",
    "# Calculate the percentage accuracy rate on test set\n",
    "accuracy = np.sum(np.equal(test_labels, predictions.reshape(-1,1))) / test_labels.shape[0] * 100\n",
    "print('Percentage accuracy on testing set using ANN on LDA set is: {0:.2f}%'.format(accuracy))"
   ]
  },
  {
   "cell_type": "markdown",
   "metadata": {},
   "source": [
    "#### Combining LDA and PCA features to one dataset and re-applying the algorithms"
   ]
  },
  {
   "cell_type": "code",
   "execution_count": 30,
   "metadata": {},
   "outputs": [],
   "source": [
    "new_train_features = np.hstack((pca_train_features,lda_train_features))\n",
    "new_test_features = np.hstack((pca_test_features, lda_test_features))"
   ]
  },
  {
   "cell_type": "code",
   "execution_count": 31,
   "metadata": {},
   "outputs": [
    {
     "name": "stdout",
     "output_type": "stream",
     "text": [
      "Percentage accuracy on testing set using logistic regression LDA+PCA set is: 48.70%\n"
     ]
    }
   ],
   "source": [
    "# Logistic Regression\n",
    "lgr = LogisticRegression(solver=\"lbfgs\", multi_class=\"ovr\", \n",
    "                         max_iter=500, warm_start = False, C=1) \n",
    "# \"ovr\" also known as One versus Rest will be used in the logistic Regression technique\n",
    "lgr.fit(new_train_features,train_labels.ravel())\n",
    "predictions = lgr.predict(new_test_features)\n",
    "accuracy = np.sum(np.equal(test_labels, predictions.reshape(-1,1)))/test_labels.shape[0]*100\n",
    "print('Percentage accuracy on testing set using logistic regression LDA+PCA set is: {0:.2f}%'.format(accuracy))"
   ]
  },
  {
   "cell_type": "code",
   "execution_count": 32,
   "metadata": {
    "scrolled": true
   },
   "outputs": [
    {
     "name": "stdout",
     "output_type": "stream",
     "text": [
      "Percentage accuracy on testing set using SVM - LDA+PCA set is: 59.80%\n"
     ]
    }
   ],
   "source": [
    "# SVM\n",
    "svm = SVC(kernel = \"poly\",C=1, gamma=\"auto\")# Polynomial\n",
    "svm.fit(new_train_features, train_labels.ravel())\n",
    "predictions = svm.predict(new_test_features)\n",
    "accuracy = np.sum(np.equal(test_labels, predictions.reshape(-1,1)))/test_labels.shape[0]*100\n",
    "print('Percentage accuracy on testing set using SVM - LDA+PCA set is: {0:.2f}%'.format(accuracy))"
   ]
  },
  {
   "cell_type": "code",
   "execution_count": 33,
   "metadata": {
    "scrolled": true
   },
   "outputs": [
    {
     "name": "stdout",
     "output_type": "stream",
     "text": [
      "Percentage accuracy on testing set using ANN - LDA+PCA set is: 50.60%\n"
     ]
    }
   ],
   "source": [
    "# ANN\n",
    "model = keras.Sequential()\n",
    "model.add(keras.layers.InputLayer(input_shape=(new_train_features.shape[1],)))\n",
    "model.add(keras.layers.Dense(10, activation='sigmoid')) # first layer\n",
    "model.compile(optimizer='sgd', loss='sparse_categorical_crossentropy', metrics=['acc'])\n",
    "history = model.fit(new_train_features, train_labels, \n",
    "                    validation_data=(new_test_features, test_labels), epochs=600, verbose=0)\n",
    "predicted_probabilities = model.predict(new_test_features)\n",
    "predictions = np.argmax(predicted_probabilities, axis=1)\n",
    "\n",
    "# Calculate the percentage accuracy rate on test set\n",
    "accuracy = np.sum(np.equal(test_labels, predictions.reshape(-1,1))) / test_labels.shape[0] * 100\n",
    "print('Percentage accuracy on testing set using ANN - LDA+PCA set is: {0:.2f}%'.format(accuracy))"
   ]
  },
  {
   "cell_type": "markdown",
   "metadata": {},
   "source": [
    "By now, SVM seems to perform better than any model we created.\n",
    "Now we will extract extra features from the original dataset by rotating images by 90,180 and 270 degrees\n",
    "Afterwards, PCA and LDA will be performed on the new 10000, 3*324 dataset and will feed the models again\n",
    "To see if we can have better performance"
   ]
  },
  {
   "cell_type": "markdown",
   "metadata": {},
   "source": [
    "#### rotate by 90 degrees"
   ]
  },
  {
   "cell_type": "code",
   "execution_count": 34,
   "metadata": {},
   "outputs": [
    {
     "data": {
      "image/png": "[encoded data removed]",
      "text/plain": [
       "<Figure size 432x288 with 1 Axes>"
      ]
     },
     "metadata": {
      "needs_background": "light"
     },
     "output_type": "display_data"
    }
   ],
   "source": [
    "tempo_array = np.rot90(train_data[:,:,:,0])\n",
    "rot90_train_features,hog_image = computeFeatures(tempo_array)\n",
    "plt.imshow(tempo_array)\n",
    "\n",
    "tempo_array = np.rot90(test_data[:,:,:,0])\n",
    "rot90_test_features,hog_image = computeFeatures(tempo_array)"
   ]
  },
  {
   "cell_type": "code",
   "execution_count": 35,
   "metadata": {},
   "outputs": [],
   "source": [
    "for i in range(1,10000):\n",
    "    tempo_array = np.rot90(train_data[:,:,:,i])\n",
    "    feature,image = computeFeatures(tempo_array)\n",
    "    rot90_train_features = np.vstack((rot90_train_features, feature))\n",
    "for i in range(1,1000):\n",
    "    tempo_array = np.rot90(test_data[:,:,:,i])\n",
    "    feature,image = computeFeatures(tempo_array)\n",
    "    rot90_test_features = np.vstack((rot90_test_features, feature))\n"
   ]
  },
  {
   "cell_type": "markdown",
   "metadata": {},
   "source": [
    "#### rotate by 180 degrees"
   ]
  },
  {
   "cell_type": "code",
   "execution_count": 36,
   "metadata": {},
   "outputs": [
    {
     "data": {
      "image/png": "[encoded data removed]",
      "text/plain": [
       "<Figure size 432x288 with 1 Axes>"
      ]
     },
     "metadata": {
      "needs_background": "light"
     },
     "output_type": "display_data"
    }
   ],
   "source": [
    "tempo_array = np.rot90(train_data[:,:,:,0])\n",
    "tempo_array = np.rot90(tempo_array)\n",
    "rot180_train_features,hog_image = computeFeatures(tempo_array)\n",
    "plt.imshow(tempo_array)\n",
    "\n",
    "tempo_array = np.rot90(test_data[:,:,:,0])\n",
    "tempo_array = np.rot90(tempo_array)\n",
    "rot180_test_features,hog_image = computeFeatures(tempo_array)"
   ]
  },
  {
   "cell_type": "code",
   "execution_count": 37,
   "metadata": {},
   "outputs": [],
   "source": [
    "for i in range(1,10000):\n",
    "    tempo_array = np.rot90(train_data[:,:,:,i])\n",
    "    tempo_array = np.rot90(tempo_array)\n",
    "    feature,image = computeFeatures(tempo_array)\n",
    "    rot180_train_features = np.vstack((rot180_train_features, feature))\n",
    "for i in range(1,1000):\n",
    "    tempo_array = np.rot90(test_data[:,:,:,i])\n",
    "    tempo_array = np.rot90(tempo_array)\n",
    "    feature,image = computeFeatures(tempo_array)\n",
    "    rot180_test_features = np.vstack((rot180_test_features, feature))\n"
   ]
  },
  {
   "cell_type": "markdown",
   "metadata": {},
   "source": [
    "#### rotate by 270 degrees"
   ]
  },
  {
   "cell_type": "code",
   "execution_count": 38,
   "metadata": {},
   "outputs": [
    {
     "data": {
      "image/png": "[encoded data removed]",
      "text/plain": [
       "<Figure size 432x288 with 1 Axes>"
      ]
     },
     "metadata": {
      "needs_background": "light"
     },
     "output_type": "display_data"
    }
   ],
   "source": [
    "tempo_array = np.rot90(train_data[:,:,:,0])\n",
    "tempo_array = np.rot90(tempo_array)\n",
    "tempo_array = np.rot90(tempo_array)\n",
    "plt.imshow(tempo_array)\n",
    "\n",
    "rot270_train_features,hog_image = computeFeatures(tempo_array)\n",
    "\n",
    "tempo_array = np.rot90(test_data[:,:,:,0])\n",
    "tempo_array = np.rot90(tempo_array)\n",
    "tempo_array = np.rot90(tempo_array)\n",
    "rot270_test_features,hog_image = computeFeatures(tempo_array)"
   ]
  },
  {
   "cell_type": "code",
   "execution_count": 39,
   "metadata": {},
   "outputs": [],
   "source": [
    "for i in range(1,10000):\n",
    "    tempo_array = np.rot90(train_data[:,:,:,i])\n",
    "    tempo_array = np.rot90(tempo_array)\n",
    "    tempo_array = np.rot90(tempo_array)\n",
    "    feature,image = computeFeatures(tempo_array)\n",
    "    rot270_train_features = np.vstack((rot270_train_features, feature))\n",
    "for i in range(1,1000):\n",
    "    tempo_array = np.rot90(test_data[:,:,:,i])\n",
    "    tempo_array = np.rot90(tempo_array)\n",
    "    tempo_array = np.rot90(tempo_array)\n",
    "    feature,image = computeFeatures(tempo_array)\n",
    "    rot270_test_features = np.vstack((rot270_test_features, feature))\n"
   ]
  },
  {
   "cell_type": "code",
   "execution_count": 40,
   "metadata": {},
   "outputs": [],
   "source": [
    "rot_train_features = np.hstack((train_features, rot90_train_features,\n",
    "                               rot180_train_features, rot270_train_features))\n",
    "rot_test_features = np.hstack((test_features, rot90_test_features,\n",
    "                              rot180_test_features, rot270_test_features))"
   ]
  },
  {
   "cell_type": "code",
   "execution_count": 41,
   "metadata": {
    "scrolled": true
   },
   "outputs": [
    {
     "data": {
      "text/plain": [
       "[<matplotlib.lines.Line2D at 0x27b03384a88>]"
      ]
     },
     "execution_count": 41,
     "metadata": {},
     "output_type": "execute_result"
    },
    {
     "data": {
      "image/png": "[encoded data removed]",
      "text/plain": [
       "<Figure size 432x288 with 1 Axes>"
      ]
     },
     "metadata": {
      "needs_background": "light"
     },
     "output_type": "display_data"
    }
   ],
   "source": [
    "pca = PCA()\n",
    "pca.fit(rot_train_features)\n",
    "\n",
    "plt.plot(pca.explained_variance_)"
   ]
  },
  {
   "cell_type": "code",
   "execution_count": 42,
   "metadata": {},
   "outputs": [],
   "source": [
    "pca = PCA(n_components = 140)\n",
    "pca.fit(rot_train_features)\n",
    "new_rot_train_features = pca.transform(rot_train_features)\n",
    "new_rot_test_features = pca.transform(rot_test_features)"
   ]
  },
  {
   "cell_type": "code",
   "execution_count": 43,
   "metadata": {
    "scrolled": true
   },
   "outputs": [
    {
     "name": "stdout",
     "output_type": "stream",
     "text": [
      "Percentage accuracy on testing set using logistic regression is: 50.30%\n"
     ]
    }
   ],
   "source": [
    "# Logistic Regression\n",
    "lgr = LogisticRegression(solver=\"lbfgs\", multi_class=\"ovr\", \n",
    "                         max_iter=500, warm_start = False, C=1) \n",
    "# \"ovr\" also known as One versus Rest will be used in the logistic Regression technique\n",
    "lgr.fit(new_rot_train_features,train_labels.ravel())\n",
    "predictions = lgr.predict(new_rot_test_features)\n",
    "accuracy = np.sum(np.equal(test_labels, predictions.reshape(-1,1)))/test_labels.shape[0]*100\n",
    "print('Percentage accuracy on testing set using logistic regression is: {0:.2f}%'.format(accuracy))"
   ]
  },
  {
   "cell_type": "code",
   "execution_count": 44,
   "metadata": {},
   "outputs": [
    {
     "name": "stdout",
     "output_type": "stream",
     "text": [
      "Percentage accuracy on testing set using SVM - polynomial kernel is: 59.30%\n"
     ]
    }
   ],
   "source": [
    "#SVM\n",
    "svm = SVC(kernel = \"poly\",C=1, gamma=\"auto\")# Polynomial\n",
    "svm.fit(new_rot_train_features, train_labels.ravel())\n",
    "predictions = svm.predict(new_rot_test_features)\n",
    "accuracy = np.sum(np.equal(test_labels, predictions.reshape(-1,1)))/test_labels.shape[0]*100\n",
    "print('Percentage accuracy on testing set using SVM - polynomial kernel is: {0:.2f}%'.format(accuracy))"
   ]
  },
  {
   "cell_type": "code",
   "execution_count": 45,
   "metadata": {},
   "outputs": [
    {
     "name": "stderr",
     "output_type": "stream",
     "text": [
      "c:\\users\\thomas\\appdata\\local\\programs\\python\\python37\\lib\\site-packages\\sklearn\\discriminant_analysis.py:388: UserWarning: Variables are collinear.\n",
      "  warnings.warn(\"Variables are collinear.\")\n"
     ]
    },
    {
     "data": {
      "text/plain": [
       "LinearDiscriminantAnalysis(n_components=9, priors=None, shrinkage=None,\n",
       "                           solver='svd', store_covariance=False, tol=0.0001)"
      ]
     },
     "execution_count": 45,
     "metadata": {},
     "output_type": "execute_result"
    }
   ],
   "source": [
    "# applying LDA and Merge with PCA dataset\n",
    "lda = LinearDiscriminantAnalysis(n_components = 9)\n",
    "lda.fit(rot_train_features, train_labels.ravel())"
   ]
  },
  {
   "cell_type": "markdown",
   "metadata": {},
   "source": [
    "We expected some colinearity as those share same features for the biggest proportion of them"
   ]
  },
  {
   "cell_type": "code",
   "execution_count": 46,
   "metadata": {},
   "outputs": [],
   "source": [
    "new_rot_train_features = np.hstack((new_rot_train_features ,lda.transform(rot_train_features)))\n",
    "new_rot_test_features = np.hstack((new_rot_test_features, lda.transform(rot_test_features)))"
   ]
  },
  {
   "cell_type": "code",
   "execution_count": 47,
   "metadata": {},
   "outputs": [
    {
     "name": "stdout",
     "output_type": "stream",
     "text": [
      "Percentage accuracy on testing set using SVM new set is: 59.50%\n"
     ]
    }
   ],
   "source": [
    "#SVM\n",
    "svm = SVC(kernel = \"poly\",C=1, gamma=\"auto\")# Polynomial\n",
    "svm.fit(new_rot_train_features, train_labels.ravel())\n",
    "predictions = svm.predict(new_rot_test_features)\n",
    "accuracy = np.sum(np.equal(test_labels, predictions.reshape(-1,1)))/test_labels.shape[0]*100\n",
    "print('Percentage accuracy on testing set using SVM new set is: {0:.2f}%'.format(accuracy))"
   ]
  },
  {
   "cell_type": "code",
   "execution_count": 48,
   "metadata": {},
   "outputs": [
    {
     "name": "stdout",
     "output_type": "stream",
     "text": [
      "Percentage accuracy on testing set using logistic regression new set is: 48.60%\n"
     ]
    }
   ],
   "source": [
    "# Logistic Regression\n",
    "lgr = LogisticRegression(solver=\"lbfgs\", multi_class=\"ovr\", \n",
    "                         max_iter=500, warm_start = False, C=1) \n",
    "# \"ovr\" also known as One versus Rest will be used in the logistic Regression technique\n",
    "lgr.fit(new_rot_train_features,train_labels.ravel())\n",
    "predictions = lgr.predict(new_rot_test_features)\n",
    "accuracy = np.sum(np.equal(test_labels, predictions.reshape(-1,1)))/test_labels.shape[0]*100\n",
    "print('Percentage accuracy on testing set using logistic regression new set is: {0:.2f}%'.format(accuracy))"
   ]
  },
  {
   "cell_type": "code",
   "execution_count": 49,
   "metadata": {},
   "outputs": [
    {
     "name": "stdout",
     "output_type": "stream",
     "text": [
      "Percentage accuracy on testing set using ANN on new set is: 48.30%\n"
     ]
    }
   ],
   "source": [
    "# ANN\n",
    "model = keras.Sequential()\n",
    "model.add(keras.layers.InputLayer(input_shape=(new_rot_train_features.shape[1],)))\n",
    "model.add(keras.layers.Dense(10, activation='sigmoid')) # first layer\n",
    "model.compile(optimizer='sgd', loss='sparse_categorical_crossentropy', metrics=['acc'])\n",
    "history = model.fit(new_rot_train_features, train_labels, \n",
    "                    validation_data=(new_rot_test_features, test_labels), epochs=600, verbose=0)\n",
    "predicted_probabilities = model.predict(new_rot_test_features)\n",
    "predictions = np.argmax(predicted_probabilities, axis=1)\n",
    "\n",
    "# Calculate the percentage accuracy rate on test set\n",
    "accuracy = np.sum(np.equal(test_labels, predictions.reshape(-1,1))) / test_labels.shape[0] * 100\n",
    "print('Percentage accuracy on testing set using ANN on new set is: {0:.2f}%'.format(accuracy))"
   ]
  },
  {
   "cell_type": "markdown",
   "metadata": {},
   "source": [
    "#### Final Model\n",
    "The final model will be SVM which has as a training set 140 principal components for the extracted features by using PCA. The model will consist of a polynomial kernel with C=1, and gamma=\"auto\". By this way the 59.8% is being achieved as the highest accuracy by now.\n",
    "\n"
   ]
  },
  {
   "cell_type": "code",
   "execution_count": 53,
   "metadata": {},
   "outputs": [
    {
     "name": "stdout",
     "output_type": "stream",
     "text": [
      "Percentage accuracy on testing set using SVM - LDA+PCA set is: 59.80%\n",
      "              precision    recall  f1-score   support\n",
      "\n",
      "    airplane       0.70      0.57      0.63       100\n",
      "  automobile       0.71      0.72      0.71       100\n",
      "        bird       0.51      0.42      0.46       100\n",
      "         cat       0.56      0.35      0.43       100\n",
      "        deer       0.45      0.73      0.55       100\n",
      "         dog       0.53      0.52      0.53       100\n",
      "        frog       0.57      0.73      0.64       100\n",
      "       horse       0.71      0.63      0.67       100\n",
      "        ship       0.65      0.65      0.65       100\n",
      "      truck        0.70      0.66      0.68       100\n",
      "\n",
      "    accuracy                           0.60      1000\n",
      "   macro avg       0.61      0.60      0.60      1000\n",
      "weighted avg       0.61      0.60      0.60      1000\n",
      "\n",
      "The confusion Matrix for the final model is: \n",
      "\n",
      "[[57  2  5  2  7  2  5  4 14  2]\n",
      " [ 2 72  0  0  5  1  3  1  9  7]\n",
      " [ 5  1 42  4  8 15 16  4  2  3]\n",
      " [ 0  3 12 35 16 15 11  5  0  3]\n",
      " [ 1  1  6  5 73  2  8  1  2  1]\n",
      " [ 0  2  6  8 17 52  7  7  1  0]\n",
      " [ 2  3  5  3  8  3 73  2  0  1]\n",
      " [ 0  1  1  5 17  6  2 63  1  4]\n",
      " [11  8  4  1  3  0  1  0 65  7]\n",
      " [ 3  9  1  0 10  2  1  2  6 66]]\n"
     ]
    }
   ],
   "source": [
    "#Final Model\n",
    "final_model = SVC(kernel = \"poly\",C=1, gamma=\"auto\")# Polynomial\n",
    "final_model.fit(new_train_features, train_labels.ravel())\n",
    "predictions = final_model.predict(new_test_features)\n",
    "accuracy = np.sum(np.equal(test_labels, predictions.reshape(-1,1)))/test_labels.shape[0]*100\n",
    "print('Percentage accuracy on testing set using SVM - LDA+PCA set is: {0:.2f}%'.format(accuracy))"
   ]
  },
  {
   "cell_type": "markdown",
   "metadata": {},
   "source": [
    "##### Confusion Matrix and Classification Report\n",
    "Below we can see the classification report, TP ratio, FP ration and the average accuracy of the model in general. Also the explicit confusion matrix is given below."
   ]
  },
  {
   "cell_type": "code",
   "execution_count": 59,
   "metadata": {
    "scrolled": false
   },
   "outputs": [
    {
     "name": "stdout",
     "output_type": "stream",
     "text": [
      "              precision    recall  f1-score   support\n",
      "\n",
      "    airplane       0.70      0.57      0.63       100\n",
      "  automobile       0.71      0.72      0.71       100\n",
      "        bird       0.51      0.42      0.46       100\n",
      "         cat       0.56      0.35      0.43       100\n",
      "        deer       0.45      0.73      0.55       100\n",
      "         dog       0.53      0.52      0.53       100\n",
      "        frog       0.57      0.73      0.64       100\n",
      "       horse       0.71      0.63      0.67       100\n",
      "        ship       0.65      0.65      0.65       100\n",
      "      truck        0.70      0.66      0.68       100\n",
      "\n",
      "    accuracy                           0.60      1000\n",
      "   macro avg       0.61      0.60      0.60      1000\n",
      "weighted avg       0.61      0.60      0.60      1000\n",
      "\n",
      "The confusion Matrix for the final model is: \n",
      "\n",
      "[[57  2  5  2  7  2  5  4 14  2]\n",
      " [ 2 72  0  0  5  1  3  1  9  7]\n",
      " [ 5  1 42  4  8 15 16  4  2  3]\n",
      " [ 0  3 12 35 16 15 11  5  0  3]\n",
      " [ 1  1  6  5 73  2  8  1  2  1]\n",
      " [ 0  2  6  8 17 52  7  7  1  0]\n",
      " [ 2  3  5  3  8  3 73  2  0  1]\n",
      " [ 0  1  1  5 17  6  2 63  1  4]\n",
      " [11  8  4  1  3  0  1  0 65  7]\n",
      " [ 3  9  1  0 10  2  1  2  6 66]]\n"
     ]
    }
   ],
   "source": [
    "label_names = ['airplane', 'automobile', 'bird',\n",
    "              'cat', 'deer', 'dog', 'frog', 'horse',\n",
    "              'ship', 'truck ']\n",
    "print(classification_report(test_labels, predictions, target_names=label_names))\n",
    "print('The confusion Matrix for the final model is: \\n')\n",
    "print(confusion_matrix(test_labels, predictions))"
   ]
  },
  {
   "cell_type": "code",
   "execution_count": 111,
   "metadata": {},
   "outputs": [
    {
     "data": {
      "image/png": "[encoded data removed]",
      "text/plain": [
       "<Figure size 648x648 with 1 Axes>"
      ]
     },
     "metadata": {
      "needs_background": "light"
     },
     "output_type": "display_data"
    }
   ],
   "source": [
    "# The above code was adapted based on the code on Matplotlib official page - tutorial for heatmaps\n",
    "# The original code can be found here: \n",
    "# https://matplotlib.org/3.1.1/gallery/images_contours_and_fields/image_annotated_heatmap.html\n",
    "\n",
    "import pandas as pd\n",
    "conf_matrix = confusion_matrix(test_labels, predictions)\n",
    "\n",
    "fig, ax = plt.subplots(figsize = (9,9))\n",
    "im = ax.imshow(conf_matrix)\n",
    "\n",
    "ax.set_xticks(np.arange(len(label_names)))\n",
    "ax.set_yticks(np.arange(len(label_names)))\n",
    "\n",
    "ax.set_xticklabels(label_names, size=20)\n",
    "ax.set_yticklabels(label_names, size=20)\n",
    "\n",
    "# Loop over data dimensions and create text annotations.\n",
    "for i in range(len(label_names)):\n",
    "    for j in range(len(label_names)):\n",
    "        if(i == j):\n",
    "            text = ax.text(j, i, conf_matrix[i, j],\n",
    "                       ha=\"center\", va=\"center\", color=\"black\", size=14)\n",
    "        else:\n",
    "            text = ax.text(j, i, conf_matrix[i, j],\n",
    "                       ha=\"center\", va=\"center\", color=\"white\", size=14)\n",
    "\n",
    "# Rotate the tick labels and set their alignment.\n",
    "plt.setp(ax.get_xticklabels(), rotation=45, ha=\"right\",\n",
    "         rotation_mode=\"anchor\")\n",
    "\n",
    "\n",
    "ax.set_title(\"Confusion Matrix for the classification\", pad= 30, size = 20)\n",
    "fig.tight_layout(pad=0.2)\n",
    "plt.show()"
   ]
  },
  {
   "cell_type": "markdown",
   "metadata": {},
   "source": [
    "#### Suggestions\n",
    "\n",
    "We propose a suggestion for a potential better improvement over here.\n",
    "We see that animals are barely misclassified as objects (truck, automobile etc.). Thus, we propose to intoduce a new label for the original set. Train one model to predict the labels as \"animal\" and \"object\"\n",
    "and if the accuracy is high enough based on that predictions re-train another model that uses those labels\n",
    "to predict which class belongs any of those. We tend to believe that this action would improve the original accuracy significantly."
   ]
  },
  {
   "cell_type": "code",
   "execution_count": null,
   "metadata": {},
   "outputs": [],
   "source": []
  }
 ],
 "metadata": {
  "kernelspec": {
   "display_name": "Python 3",
   "language": "python",
   "name": "python3"
  },
  "language_info": {
   "codemirror_mode": {
    "name": "ipython",
    "version": 3
   },
   "file_extension": ".py",
   "mimetype": "text/x-python",
   "name": "python",
   "nbconvert_exporter": "python",
   "pygments_lexer": "ipython3",
   "version": "3.7.4"
  }
 },
 "nbformat": 4,
 "nbformat_minor": 2
}
